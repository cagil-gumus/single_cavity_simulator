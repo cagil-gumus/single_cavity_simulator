{
 "cells": [
  {
   "cell_type": "markdown",
   "metadata": {},
   "source": [
    "# Single Cavity Simulator\n",
    "\n",
    "## Electrical Model of the Cavity\n",
    "\n",
    "In this Notebook, electrical model of a superconducting TESLA type RF cavity will be shown.\n",
    "\n",
    "Resonant modes in cavities can be described by means of resonant RLC circuits. In the figure below, simplified structure for the LLRF system with modelled cavity can be seen.  [1]\n",
    "\n",
    "![Electrical model of the cavity](img/cavity_model.png)\n",
    "\n",
    "$I_g$ represents the generator current from the Klystron and $I_b$ represents the beam induced current on the cavity.\n",
    "\n",
    "Generator output coupling is represented byt a lossless transformer with a transformation ratio of $1:N$\n",
    "\n",
    "As seen from the right side of reference plane B, the circuit looks like: \n",
    "\n",
    "![Electrical model of the cavity](img/right_side_reference_b.png)\n",
    "\n",
    "\n",
    "Where: \n",
    "\n",
    "$$\n",
    "\\tilde{I_g} = 2I_g\n",
    "$$\n",
    "$$\n",
    "Z_{ext} = N^2Z_0 \n",
    "$$\n",
    "\n",
    "\n",
    "Quality factor $Q$ can be defined as: \n",
    "\n",
    "$$\n",
    "Q = 2\\pi\\frac{\\text{Stored energy in the cavity}}{\\text{Dissipated energy per cycle}} = \\omega_0RC = \\frac{R}{\\omega_0L}\n",
    "$$\n",
    "\n",
    "Energy loss also occour in coupler or in waveguides. This can be represented as external quality factor $Q_{ext}$. Hence total loaded quality factor $Q_{l}$ can be defined as:\n",
    "\n",
    "$$ \n",
    "\\frac{1}{Q_{l}} = \\frac{1}{Q_{0}} + \\frac{1}{Q_{ext}}\n",
    "$$\n",
    "\n",
    "Instead of the transformation ratio $1:N$, it is useful to describe the coupling between transmission line and cavity by the so-called coupling factor $\\beta$. This factor $\\beta$ is definad as the ratio of the resistor R in the RLC circuit to the transformed external load $Z_{ext}$ \n",
    "\n",
    "$$\n",
    "\\beta = \\frac{R}{Z_{ext}} = \\frac{R}{Z_{ext}}\n",
    "$$\n",
    "\n",
    "With this equation we can re-define the following parameters: \n",
    "\n",
    "$$\n",
    "R_l = \\frac{R}{R+\\beta}\n",
    "$$\n",
    "\n",
    "Half-width-half-magnitude (HWHM) of a cavity $ w_{1/2} $ is:\n",
    "\n",
    "$$\n",
    "w_{1/2} = \\frac{w_0}{2Q_l}\n",
    "$$\n",
    "\n",
    "and Detuning of the cavity ${\\Delta}w$ is: \n",
    "\n",
    "$$\n",
    "{\\Delta}w = w_0 - w\n",
    "$$\n"
   ]
  },
  {
   "cell_type": "markdown",
   "metadata": {},
   "source": [
    "## State-Space Representation\n",
    "\n",
    "The differential equation describing the cavity voltage is: \n",
    "\n",
    "$$\n",
    "\\frac{d}{dt} \\begin{pmatrix} V_r \\\\ V_i \\\\ \\end{pmatrix} =   \\begin{pmatrix} -w_{1/2} & -{\\Delta}w \\\\ {\\Delta}w  & -w_{1/2} \\\\ \\end{pmatrix} \\begin{pmatrix} V_r \\\\ V_i \\\\ \\end{pmatrix} + \\begin{pmatrix} R_Lw_{1/2} & 0 \\\\ 0  & R_L w_{1/2} \\\\ \\end{pmatrix} \\begin{pmatrix} I_r \\\\ I_i \\\\ \\end{pmatrix}\n",
    "$$\n",
    "\n",
    "where Voltage and current represented in a complex plane\n",
    "\n",
    "$$\n",
    "V(t) = (V_r(t) + iV_i(t)).e^{iwt}\n",
    "$$\n",
    "\n",
    "$$\n",
    "I(t) = (I_r(t) + iI_i(t)).e^{iwt} \n",
    "$$"
   ]
  },
  {
   "cell_type": "markdown",
   "metadata": {},
   "source": [
    "This leads to the following equation for the real and imaginary part of the cavity voltage: \n",
    "\n",
    "$$\n",
    "\\frac{d}{dt}V_r = -w_{1/2}V_r - \\Delta{w}{V_i} + R_Lw_{1/2}I_r\n",
    "$$\n",
    "\n",
    "$$\n",
    "\\frac{d}{dt}V_i = \\Delta{w}{V_r} - w_{1/2}V_i + R_Lw_{1/2}I_i\n",
    "$$"
   ]
  },
  {
   "cell_type": "markdown",
   "metadata": {},
   "source": [
    "We can now solve this differential equation using odeint package from scipy"
   ]
  },
  {
   "cell_type": "code",
   "execution_count": 76,
   "metadata": {},
   "outputs": [
    {
     "data": {
      "image/png": "[encoded data removed]",
      "text/plain": [
       "<Figure size 432x288 with 1 Axes>"
      ]
     },
     "metadata": {
      "needs_background": "light"
     },
     "output_type": "display_data"
    }
   ],
   "source": [
    "import numpy as np\n",
    "import matplotlib.pyplot as plt\n",
    "from scipy.integrate import odeint\n",
    "\n",
    "# function that returns dV_r/dt\n",
    "def model(V_r,t,generator):\n",
    "    w_half = 1\n",
    "    delta_w = 1\n",
    "    R_l = 1\n",
    "    dV_rdt = -w_half*V_r + R_l*w_half*generator\n",
    "    return dV_rdt\n",
    "\n",
    "# initial condition\n",
    "V_r0 = 0\n",
    "\n",
    "# time points\n",
    "t = np.linspace(0,40,1000)\n",
    "\n",
    "# step input\n",
    "generator = np.zeros(1000)\n",
    "generator[100:500] = 2.0\n",
    "\n",
    "# solve ODE\n",
    "#y = odeint(model,V_r0,t)\n",
    "V_r[0] = 0\n",
    "\n",
    "for i in range(1,1000):\n",
    "    tspan = [t[i-1],t[i]]\n",
    "    # solve for next step\n",
    "    z = odeint(model,V_r0,tspan,args=(generator[i],))\n",
    "    y[i] = z[1][0]\n",
    "    #next initial condition\n",
    "    V_r0 = z[1]\n",
    "\n",
    "# plot results\n",
    "plt.plot(t,y,'r-',label='Output')\n",
    "plt.plot(t,generator,'b-',label='Input')\n",
    "\n",
    "plt.ylabel('values')\n",
    "plt.xlabel('time')\n",
    "plt.legend(loc='best')\n",
    "plt.show()\n"
   ]
  },
  {
   "cell_type": "code",
   "execution_count": null,
   "metadata": {},
   "outputs": [],
   "source": []
  },
  {
   "cell_type": "markdown",
   "metadata": {},
   "source": [
    "## References\n",
    "\n",
    "[ [1] Vector Sum Control of Pulsed Accelerating Fields in Lorentz Force Detuned Superconducting Cavities, Thomas Schilcher, Hamburg 1998](https://bib-pubdb1.desy.de/record/291638/files/schilcher.pdf)"
   ]
  },
  {
   "cell_type": "code",
   "execution_count": null,
   "metadata": {},
   "outputs": [],
   "source": []
  }
 ],
 "metadata": {
  "kernelspec": {
   "display_name": "Python 3",
   "language": "python",
   "name": "python3"
  },
  "language_info": {
   "codemirror_mode": {
    "name": "ipython",
    "version": 3
   },
   "file_extension": ".py",
   "mimetype": "text/x-python",
   "name": "python",
   "nbconvert_exporter": "python",
   "pygments_lexer": "ipython3",
   "version": "3.8.10"
  }
 },
 "nbformat": 4,
 "nbformat_minor": 4
}
